{
 "cells": [
  {
   "cell_type": "code",
   "execution_count": 1,
   "id": "aging-captain",
   "metadata": {},
   "outputs": [
    {
     "name": "stdout",
     "output_type": "stream",
     "text": [
      "INFO: Pandarallel will run on 10 workers.\n",
      "INFO: Pandarallel will use Memory file system to transfer data between the main process and workers.\n"
     ]
    }
   ],
   "source": [
    "from datasets import load_dataset, load_metric\n",
    "\n",
    "import pandas as pd\n",
    "import numpy as np\n",
    "import librosa\n",
    "import json\n",
    "\n",
    "import hazm\n",
    "from num2fawords import words, ordinal_words\n",
    "from tqdm.notebook import tqdm\n",
    "\n",
    "from sklearn.model_selection import train_test_split\n",
    "\n",
    "import os\n",
    "import string\n",
    "import six\n",
    "import re\n",
    "import glob\n",
    "from pandarallel import pandarallel\n",
    "\n",
    "pandarallel.initialize(nb_workers=10)\n",
    "tqdm.pandas()"
   ]
  },
  {
   "cell_type": "code",
   "execution_count": 2,
   "id": "occupational-console",
   "metadata": {},
   "outputs": [],
   "source": [
    "_normalizer = hazm.Normalizer()\n",
    "\n",
    "chars_to_ignore = [\n",
    "    \",\", \"?\", \".\", \"!\", \"-\", \";\", \":\", '\"\"', \"%\", \"'\", '\"', \"�\",\n",
    "    \"#\", \"!\", \"؟\", \"?\", \"«\", \"»\", \"،\", \"(\", \")\", \"؛\", \"'ٔ\", \"٬\",'ٔ', \",\", \"?\", \n",
    "    \".\", \"!\", \"-\", \";\", \":\",'\"',\"“\", \"%\", \"‘\", \"”\", \"�\", \"–\", \"…\", \"_\", \"”\", '“', '„',\n",
    "    'ā', 'š',\n",
    "#     \"ء\",\n",
    "]\n",
    "\n",
    "# In case of farsi\n",
    "chars_to_ignore = chars_to_ignore + list(string.ascii_lowercase + string.digits)\n",
    "\n",
    "chars_to_mapping = {\n",
    "    'ك': 'ک', 'دِ': 'د', 'بِ': 'ب', 'زِ': 'ز', 'ذِ': 'ذ', 'شِ': 'ش', 'سِ': 'س', 'ى': 'ی',\n",
    "    'ي': 'ی', 'أ': 'ا', 'ؤ': 'و', \"ے\": \"ی\", \"ۀ\": \"ه\", \"ﭘ\": \"پ\", \"ﮐ\": \"ک\", \"ﯽ\": \"ی\",\n",
    "    \"ﺎ\": \"ا\", \"ﺑ\": \"ب\", \"ﺘ\": \"ت\", \"ﺧ\": \"خ\", \"ﺩ\": \"د\", \"ﺱ\": \"س\", \"ﻀ\": \"ض\", \"ﻌ\": \"ع\",\n",
    "    \"ﻟ\": \"ل\", \"ﻡ\": \"م\", \"ﻢ\": \"م\", \"ﻪ\": \"ه\", \"ﻮ\": \"و\", 'ﺍ': \"ا\", 'ة': \"ه\",\n",
    "    'ﯾ': \"ی\", 'ﯿ': \"ی\", 'ﺒ': \"ب\", 'ﺖ': \"ت\", 'ﺪ': \"د\", 'ﺮ': \"ر\", 'ﺴ': \"س\", 'ﺷ': \"ش\",\n",
    "    'ﺸ': \"ش\", 'ﻋ': \"ع\", 'ﻤ': \"م\", 'ﻥ': \"ن\", 'ﻧ': \"ن\", 'ﻭ': \"و\", 'ﺭ': \"ر\", \"ﮔ\": \"گ\",\n",
    "        \n",
    "    # \"ها\": \"  ها\", \"ئ\": \"ی\",\n",
    "    \"۱۴ام\": \"۱۴ ام\",\n",
    "        \n",
    "    \"a\": \" ای \", \"b\": \" بی \", \"c\": \" سی \", \"d\": \" دی \", \"e\": \" ایی \", \"f\": \" اف \",\n",
    "    \"g\": \" جی \", \"h\": \" اچ \", \"i\": \" آی \", \"j\": \" جی \", \"k\": \" کی \", \"l\": \" ال \",\n",
    "    \"m\": \" ام \", \"n\": \" ان \", \"o\": \" او \", \"p\": \" پی \", \"q\": \" کیو \", \"r\": \" آر \",\n",
    "    \"s\": \" اس \", \"t\": \" تی \", \"u\": \" یو \", \"v\": \" وی \", \"w\": \" دبلیو \", \"x\": \" اکس \",\n",
    "    \"y\": \" وای \", \"z\": \" زد \",\n",
    "    \"\\u200c\": \" \", \"\\u200d\": \" \", \"\\u200e\": \" \", \"\\u200f\": \" \", \"\\ufeff\": \" \",\n",
    "}\n",
    "\n",
    "\n",
    "def multiple_replace(text, chars_to_mapping):\n",
    "    pattern = \"|\".join(map(re.escape, chars_to_mapping.keys()))\n",
    "    return re.sub(pattern, lambda m: chars_to_mapping[m.group()], str(text))\n",
    "\n",
    "def remove_special_characters(text, chars_to_ignore_regex):\n",
    "    text = re.sub(chars_to_ignore_regex, '', text).lower() + \" \"\n",
    "    return text\n",
    "\n",
    "def normalizer(text, chars_to_ignore=chars_to_ignore, chars_to_mapping=chars_to_mapping):\n",
    "    chars_to_ignore_regex = f\"\"\"[{\"\".join(chars_to_ignore)}]\"\"\"\n",
    "    text = text.lower().strip()\n",
    "\n",
    "    text = _normalizer.normalize(text)\n",
    "    text = multiple_replace(text, chars_to_mapping)\n",
    "    text = remove_special_characters(text, chars_to_ignore_regex)\n",
    "    text = re.sub(\" +\", \" \", text)\n",
    "    _text = []\n",
    "    for word in text.split():\n",
    "        try:\n",
    "            word = int(word)\n",
    "            _text.append(words(word))\n",
    "        except:\n",
    "            _text.append(word)\n",
    "            \n",
    "    text = \" \".join(_text) + \" \"\n",
    "    text = text.strip()\n",
    "\n",
    "    if not len(text) > 0:\n",
    "        return None\n",
    "    \n",
    "    return text + \" \""
   ]
  },
  {
   "cell_type": "markdown",
   "id": "edd0fb39",
   "metadata": {},
   "source": [
    "## general and medical"
   ]
  },
  {
   "cell_type": "code",
   "execution_count": 16,
   "id": "8930ecbe",
   "metadata": {},
   "outputs": [
    {
     "name": "stdout",
     "output_type": "stream",
     "text": [
      "(9910, 3)\n"
     ]
    },
    {
     "data": {
      "text/html": [
       "<div>\n",
       "<style scoped>\n",
       "    .dataframe tbody tr th:only-of-type {\n",
       "        vertical-align: middle;\n",
       "    }\n",
       "\n",
       "    .dataframe tbody tr th {\n",
       "        vertical-align: top;\n",
       "    }\n",
       "\n",
       "    .dataframe thead th {\n",
       "        text-align: right;\n",
       "    }\n",
       "</style>\n",
       "<table border=\"1\" class=\"dataframe\">\n",
       "  <thead>\n",
       "    <tr style=\"text-align: right;\">\n",
       "      <th></th>\n",
       "      <th>text</th>\n",
       "      <th>file_name</th>\n",
       "      <th>user_id</th>\n",
       "    </tr>\n",
       "  </thead>\n",
       "  <tbody>\n",
       "    <tr>\n",
       "      <th>0</th>\n",
       "      <td>چه چیزی بیشتر شما را پیر نشان می دهد</td>\n",
       "      <td>fanap_FANAP_1st_SERIES/1.wav</td>\n",
       "      <td>bqgRVXP0g7b8xzpB+4vTsxa8YX7UDJBsUrb2ZOed6eTE7v...</td>\n",
       "    </tr>\n",
       "    <tr>\n",
       "      <th>1</th>\n",
       "      <td>با کمال تعجب ممکن است چین و چروک یا موی سفید ش...</td>\n",
       "      <td>fanap_FANAP_1st_SERIES/2.wav</td>\n",
       "      <td>bqgRVXP0g7b8xzpB+4vTs/2jyYI8VS+jci1tDAl7OvY3oS...</td>\n",
       "    </tr>\n",
       "    <tr>\n",
       "      <th>2</th>\n",
       "      <td>اگرچه تیرگی زیر چشم می تواند شما را مسن بیمار ...</td>\n",
       "      <td>fanap_FANAP_1st_SERIES/3.wav</td>\n",
       "      <td>bqgRVXP0g7b8xzpB+4vTsxa8YX7UDJBsUrb2ZOed6eTE7v...</td>\n",
       "    </tr>\n",
       "    <tr>\n",
       "      <th>3</th>\n",
       "      <td>تیرگی زیر چشم هر دو جنس مرد و زن را تحت تاثیر ...</td>\n",
       "      <td>fanap_FANAP_1st_SERIES/4.wav</td>\n",
       "      <td>bqgRVXP0g7b8xzpB+4vTsxa8YX7UDJBsUrb2ZOed6eTE7v...</td>\n",
       "    </tr>\n",
       "    <tr>\n",
       "      <th>4</th>\n",
       "      <td>اگر شما زیاد می خوابید و همچنان زیر چشم هایتان...</td>\n",
       "      <td>fanap_FANAP_1st_SERIES/5.wav</td>\n",
       "      <td>bqgRVXP0g7b8xzpB+4vTs/2jyYI8VS+jci1tDAl7OvY3oS...</td>\n",
       "    </tr>\n",
       "  </tbody>\n",
       "</table>\n",
       "</div>"
      ],
      "text/plain": [
       "                                                text  \\\n",
       "0               چه چیزی بیشتر شما را پیر نشان می دهد   \n",
       "1  با کمال تعجب ممکن است چین و چروک یا موی سفید ش...   \n",
       "2  اگرچه تیرگی زیر چشم می تواند شما را مسن بیمار ...   \n",
       "3  تیرگی زیر چشم هر دو جنس مرد و زن را تحت تاثیر ...   \n",
       "4  اگر شما زیاد می خوابید و همچنان زیر چشم هایتان...   \n",
       "\n",
       "                      file_name  \\\n",
       "0  fanap_FANAP_1st_SERIES/1.wav   \n",
       "1  fanap_FANAP_1st_SERIES/2.wav   \n",
       "2  fanap_FANAP_1st_SERIES/3.wav   \n",
       "3  fanap_FANAP_1st_SERIES/4.wav   \n",
       "4  fanap_FANAP_1st_SERIES/5.wav   \n",
       "\n",
       "                                             user_id  \n",
       "0  bqgRVXP0g7b8xzpB+4vTsxa8YX7UDJBsUrb2ZOed6eTE7v...  \n",
       "1  bqgRVXP0g7b8xzpB+4vTs/2jyYI8VS+jci1tDAl7OvY3oS...  \n",
       "2  bqgRVXP0g7b8xzpB+4vTsxa8YX7UDJBsUrb2ZOed6eTE7v...  \n",
       "3  bqgRVXP0g7b8xzpB+4vTsxa8YX7UDJBsUrb2ZOed6eTE7v...  \n",
       "4  bqgRVXP0g7b8xzpB+4vTs/2jyYI8VS+jci1tDAl7OvY3oS...  "
      ]
     },
     "execution_count": 16,
     "metadata": {},
     "output_type": "execute_result"
    }
   ],
   "source": [
    "path = '/media/data/soroosh/dataset/ASR/medical_data/'\n",
    "df = pd.read_csv(path + 'fanap_FANAP_1st_SERIES.csv')\n",
    "print(df.shape)\n",
    "df.head()"
   ]
  },
  {
   "cell_type": "code",
   "execution_count": 17,
   "id": "4ffd2d92",
   "metadata": {},
   "outputs": [
    {
     "data": {
      "application/vnd.jupyter.widget-view+json": {
       "model_id": "8b37e65c6e3d4d64addab50e10be37b3",
       "version_major": 2,
       "version_minor": 0
      },
      "text/plain": [
       "HBox(children=(FloatProgress(value=0.0, max=9910.0), HTML(value='')))"
      ]
     },
     "metadata": {},
     "output_type": "display_data"
    },
    {
     "name": "stdout",
     "output_type": "stream",
     "text": [
      "\n"
     ]
    }
   ],
   "source": [
    "df[\"sentence\"] = df[\"text\"].progress_apply(lambda t: normalizer(t))"
   ]
  },
  {
   "cell_type": "code",
   "execution_count": 18,
   "id": "237862ba",
   "metadata": {},
   "outputs": [
    {
     "data": {
      "application/vnd.jupyter.widget-view+json": {
       "model_id": "6c9c3aad6f1d45eb8c80d420a7e2ac72",
       "version_major": 2,
       "version_minor": 0
      },
      "text/plain": [
       "HBox(children=(FloatProgress(value=0.0, max=9910.0), HTML(value='')))"
      ]
     },
     "metadata": {},
     "output_type": "display_data"
    },
    {
     "name": "stdout",
     "output_type": "stream",
     "text": [
      "\n"
     ]
    }
   ],
   "source": [
    "df['path'] = df['file_name'].progress_apply(lambda p: path + p)"
   ]
  },
  {
   "cell_type": "code",
   "execution_count": 9,
   "id": "aa5b2ddc",
   "metadata": {},
   "outputs": [
    {
     "data": {
      "application/vnd.jupyter.widget-view+json": {
       "model_id": "04f28f93fb554d7293de461eb40de513",
       "version_major": 2,
       "version_minor": 0
      },
      "text/plain": [
       "HBox(children=(FloatProgress(value=0.0, max=9910.0), HTML(value='')))"
      ]
     },
     "metadata": {},
     "output_type": "display_data"
    },
    {
     "name": "stdout",
     "output_type": "stream",
     "text": [
      "\n"
     ]
    }
   ],
   "source": [
    "# from joblib import Parallel, delayed\n",
    "\n",
    "# save_dir = path + 'np/'\n",
    "# os.makedirs(save_dir , exist_ok=True)\n",
    "\n",
    "# def save2np(file):\n",
    "#     try:\n",
    "#         x, _ = librosa.load(file, sr=16000)\n",
    "#         np.save(save_dir + file.split('/')[-1][:-4], x)\n",
    "#     except Exception as e:\n",
    "#         print(file, ':', e)\n",
    "\n",
    "# _ = Parallel(n_jobs=10)(delayed(save2np)(file) for file in tqdm(df['path']))"
   ]
  },
  {
   "cell_type": "code",
   "execution_count": 19,
   "id": "53923cac",
   "metadata": {},
   "outputs": [
    {
     "data": {
      "application/vnd.jupyter.widget-view+json": {
       "model_id": "67d5a3e2b9e049848deef3de7aa22231",
       "version_major": 2,
       "version_minor": 0
      },
      "text/plain": [
       "HBox(children=(FloatProgress(value=0.0, max=9910.0), HTML(value='')))"
      ]
     },
     "metadata": {},
     "output_type": "display_data"
    },
    {
     "name": "stdout",
     "output_type": "stream",
     "text": [
      "\n",
      "(9901, 7)\n"
     ]
    },
    {
     "data": {
      "application/vnd.jupyter.widget-view+json": {
       "model_id": "b17f0569eb3b4ea18945ae6efc7ad7df",
       "version_major": 2,
       "version_minor": 0
      },
      "text/plain": [
       "HBox(children=(FloatProgress(value=0.0, max=9901.0), HTML(value='')))"
      ]
     },
     "metadata": {},
     "output_type": "display_data"
    },
    {
     "name": "stdout",
     "output_type": "stream",
     "text": [
      "\n"
     ]
    },
    {
     "data": {
      "text/html": [
       "<div>\n",
       "<style scoped>\n",
       "    .dataframe tbody tr th:only-of-type {\n",
       "        vertical-align: middle;\n",
       "    }\n",
       "\n",
       "    .dataframe tbody tr th {\n",
       "        vertical-align: top;\n",
       "    }\n",
       "\n",
       "    .dataframe thead th {\n",
       "        text-align: right;\n",
       "    }\n",
       "</style>\n",
       "<table border=\"1\" class=\"dataframe\">\n",
       "  <thead>\n",
       "    <tr style=\"text-align: right;\">\n",
       "      <th></th>\n",
       "      <th>text</th>\n",
       "      <th>file_name</th>\n",
       "      <th>user_id</th>\n",
       "      <th>sentence</th>\n",
       "      <th>path</th>\n",
       "      <th>np_path</th>\n",
       "      <th>status</th>\n",
       "      <th>duration</th>\n",
       "    </tr>\n",
       "  </thead>\n",
       "  <tbody>\n",
       "    <tr>\n",
       "      <th>0</th>\n",
       "      <td>چه چیزی بیشتر شما را پیر نشان می دهد</td>\n",
       "      <td>fanap_FANAP_1st_SERIES/1.wav</td>\n",
       "      <td>bqgRVXP0g7b8xzpB+4vTsxa8YX7UDJBsUrb2ZOed6eTE7v...</td>\n",
       "      <td>چه چیزی بیشتر شما را پیر نشان می دهد</td>\n",
       "      <td>/media/data/soroosh/dataset/ASR/medical_data/f...</td>\n",
       "      <td>/media/data/soroosh/dataset/ASR/medical_data/n...</td>\n",
       "      <td>True</td>\n",
       "      <td>3.584000</td>\n",
       "    </tr>\n",
       "    <tr>\n",
       "      <th>1</th>\n",
       "      <td>با کمال تعجب ممکن است چین و چروک یا موی سفید ش...</td>\n",
       "      <td>fanap_FANAP_1st_SERIES/2.wav</td>\n",
       "      <td>bqgRVXP0g7b8xzpB+4vTs/2jyYI8VS+jci1tDAl7OvY3oS...</td>\n",
       "      <td>با کمال تعجب ممکن است چین و چروک یا موی سفید ش...</td>\n",
       "      <td>/media/data/soroosh/dataset/ASR/medical_data/f...</td>\n",
       "      <td>/media/data/soroosh/dataset/ASR/medical_data/n...</td>\n",
       "      <td>True</td>\n",
       "      <td>9.642687</td>\n",
       "    </tr>\n",
       "    <tr>\n",
       "      <th>2</th>\n",
       "      <td>اگرچه تیرگی زیر چشم می تواند شما را مسن بیمار ...</td>\n",
       "      <td>fanap_FANAP_1st_SERIES/3.wav</td>\n",
       "      <td>bqgRVXP0g7b8xzpB+4vTsxa8YX7UDJBsUrb2ZOed6eTE7v...</td>\n",
       "      <td>اگرچه تیرگی زیر چشم می تواند شما را مسن بیمار ...</td>\n",
       "      <td>/media/data/soroosh/dataset/ASR/medical_data/f...</td>\n",
       "      <td>/media/data/soroosh/dataset/ASR/medical_data/n...</td>\n",
       "      <td>True</td>\n",
       "      <td>9.813375</td>\n",
       "    </tr>\n",
       "    <tr>\n",
       "      <th>3</th>\n",
       "      <td>تیرگی زیر چشم هر دو جنس مرد و زن را تحت تاثیر ...</td>\n",
       "      <td>fanap_FANAP_1st_SERIES/4.wav</td>\n",
       "      <td>bqgRVXP0g7b8xzpB+4vTsxa8YX7UDJBsUrb2ZOed6eTE7v...</td>\n",
       "      <td>تیرگی زیر چشم هر دو جنس مرد و زن را تحت تاثیر ...</td>\n",
       "      <td>/media/data/soroosh/dataset/ASR/medical_data/f...</td>\n",
       "      <td>/media/data/soroosh/dataset/ASR/medical_data/n...</td>\n",
       "      <td>True</td>\n",
       "      <td>11.776000</td>\n",
       "    </tr>\n",
       "    <tr>\n",
       "      <th>4</th>\n",
       "      <td>اگر شما زیاد می خوابید و همچنان زیر چشم هایتان...</td>\n",
       "      <td>fanap_FANAP_1st_SERIES/5.wav</td>\n",
       "      <td>bqgRVXP0g7b8xzpB+4vTs/2jyYI8VS+jci1tDAl7OvY3oS...</td>\n",
       "      <td>اگر شما زیاد می خوابید و همچنان زیر چشم هایتان...</td>\n",
       "      <td>/media/data/soroosh/dataset/ASR/medical_data/f...</td>\n",
       "      <td>/media/data/soroosh/dataset/ASR/medical_data/n...</td>\n",
       "      <td>True</td>\n",
       "      <td>5.888000</td>\n",
       "    </tr>\n",
       "  </tbody>\n",
       "</table>\n",
       "</div>"
      ],
      "text/plain": [
       "                                                text  \\\n",
       "0               چه چیزی بیشتر شما را پیر نشان می دهد   \n",
       "1  با کمال تعجب ممکن است چین و چروک یا موی سفید ش...   \n",
       "2  اگرچه تیرگی زیر چشم می تواند شما را مسن بیمار ...   \n",
       "3  تیرگی زیر چشم هر دو جنس مرد و زن را تحت تاثیر ...   \n",
       "4  اگر شما زیاد می خوابید و همچنان زیر چشم هایتان...   \n",
       "\n",
       "                      file_name  \\\n",
       "0  fanap_FANAP_1st_SERIES/1.wav   \n",
       "1  fanap_FANAP_1st_SERIES/2.wav   \n",
       "2  fanap_FANAP_1st_SERIES/3.wav   \n",
       "3  fanap_FANAP_1st_SERIES/4.wav   \n",
       "4  fanap_FANAP_1st_SERIES/5.wav   \n",
       "\n",
       "                                             user_id  \\\n",
       "0  bqgRVXP0g7b8xzpB+4vTsxa8YX7UDJBsUrb2ZOed6eTE7v...   \n",
       "1  bqgRVXP0g7b8xzpB+4vTs/2jyYI8VS+jci1tDAl7OvY3oS...   \n",
       "2  bqgRVXP0g7b8xzpB+4vTsxa8YX7UDJBsUrb2ZOed6eTE7v...   \n",
       "3  bqgRVXP0g7b8xzpB+4vTsxa8YX7UDJBsUrb2ZOed6eTE7v...   \n",
       "4  bqgRVXP0g7b8xzpB+4vTs/2jyYI8VS+jci1tDAl7OvY3oS...   \n",
       "\n",
       "                                            sentence  \\\n",
       "0              چه چیزی بیشتر شما را پیر نشان می دهد    \n",
       "1  با کمال تعجب ممکن است چین و چروک یا موی سفید ش...   \n",
       "2  اگرچه تیرگی زیر چشم می تواند شما را مسن بیمار ...   \n",
       "3  تیرگی زیر چشم هر دو جنس مرد و زن را تحت تاثیر ...   \n",
       "4  اگر شما زیاد می خوابید و همچنان زیر چشم هایتان...   \n",
       "\n",
       "                                                path  \\\n",
       "0  /media/data/soroosh/dataset/ASR/medical_data/f...   \n",
       "1  /media/data/soroosh/dataset/ASR/medical_data/f...   \n",
       "2  /media/data/soroosh/dataset/ASR/medical_data/f...   \n",
       "3  /media/data/soroosh/dataset/ASR/medical_data/f...   \n",
       "4  /media/data/soroosh/dataset/ASR/medical_data/f...   \n",
       "\n",
       "                                             np_path status   duration  \n",
       "0  /media/data/soroosh/dataset/ASR/medical_data/n...   True   3.584000  \n",
       "1  /media/data/soroosh/dataset/ASR/medical_data/n...   True   9.642687  \n",
       "2  /media/data/soroosh/dataset/ASR/medical_data/n...   True   9.813375  \n",
       "3  /media/data/soroosh/dataset/ASR/medical_data/n...   True  11.776000  \n",
       "4  /media/data/soroosh/dataset/ASR/medical_data/n...   True   5.888000  "
      ]
     },
     "execution_count": 19,
     "metadata": {},
     "output_type": "execute_result"
    }
   ],
   "source": [
    "df['np_path'] = df['path'].progress_apply(lambda path: save_dir + path.split('/')[-1][:-4] + '.npy')\n",
    "df[\"status\"] = df[\"np_path\"].apply(lambda path: True if os.path.exists(path) else None)\n",
    "\n",
    "df.dropna(subset=['status'], inplace=True)\n",
    "df.drop(['status'], axis=1, inplace=True)\n",
    "print(df.shape)\n",
    "\n",
    "df['duration'] = df['np_path'].progress_apply(lambda p: np.load(p).shape[0]/ 16000)\n",
    "df.head()"
   ]
  },
  {
   "cell_type": "code",
   "execution_count": 21,
   "id": "94866de3",
   "metadata": {},
   "outputs": [
    {
     "name": "stdout",
     "output_type": "stream",
     "text": [
      "(8910, 4)\n",
      "(991, 4)\n"
     ]
    }
   ],
   "source": [
    "df = df[['sentence', 'path', 'np_path', 'duration']]\n",
    "train_df, val_df = train_test_split(df, test_size=0.1, random_state=101)\n",
    "\n",
    "train_df.reset_index(drop=True, inplace=True)\n",
    "val_df.reset_index(drop=True, inplace=True)\n",
    "\n",
    "print(train_df.shape)\n",
    "print(val_df.shape)\n",
    "\n",
    "df.to_csv(f\"{path}meta.csv\", encoding=\"utf-8\", index=False)\n",
    "train_df.to_csv(f\"{path}train.csv\", encoding=\"utf-8\", index=False)\n",
    "val_df.to_csv(f\"{path}val.csv\", encoding=\"utf-8\", index=False)"
   ]
  },
  {
   "cell_type": "markdown",
   "id": "above-department",
   "metadata": {},
   "source": [
    "## Common voice"
   ]
  },
  {
   "cell_type": "code",
   "execution_count": 6,
   "id": "multiple-works",
   "metadata": {},
   "outputs": [
    {
     "data": {
      "text/plain": [
       "(251659, 2)"
      ]
     },
     "execution_count": 6,
     "metadata": {},
     "output_type": "execute_result"
    }
   ],
   "source": [
    "cv_path = '/media/data/soroosh/dataset/ASR/cv-fa-6.1/cv-corpus-6.1-2020-12-11/fa/'\n",
    "valid = pd.read_csv(cv_path + 'validated.csv')\n",
    "# valid = pd.read_table(cv_path + 'validated.tsv')\n",
    "# train = pd.read_table(cv_path + 'train.tsv')\n",
    "# dev = pd.read_table(cv_path + 'dev.tsv')\n",
    "# test = pd.read_table(cv_path + 'test.tsv')\n",
    "\n",
    "valid.shape#, train.shape, dev.shape, test.shape"
   ]
  },
  {
   "cell_type": "code",
   "execution_count": 7,
   "id": "timely-guest",
   "metadata": {},
   "outputs": [
    {
     "data": {
      "text/html": [
       "<div>\n",
       "<style scoped>\n",
       "    .dataframe tbody tr th:only-of-type {\n",
       "        vertical-align: middle;\n",
       "    }\n",
       "\n",
       "    .dataframe tbody tr th {\n",
       "        vertical-align: top;\n",
       "    }\n",
       "\n",
       "    .dataframe thead th {\n",
       "        text-align: right;\n",
       "    }\n",
       "</style>\n",
       "<table border=\"1\" class=\"dataframe\">\n",
       "  <thead>\n",
       "    <tr style=\"text-align: right;\">\n",
       "      <th></th>\n",
       "      <th>sentence</th>\n",
       "      <th>path</th>\n",
       "    </tr>\n",
       "  </thead>\n",
       "  <tbody>\n",
       "    <tr>\n",
       "      <th>0</th>\n",
       "      <td>آیا این شراب شیرین است</td>\n",
       "      <td>/media/data/soroosh/dataset/ASR/cv-fa-6.1/cv-c...</td>\n",
       "    </tr>\n",
       "    <tr>\n",
       "      <th>1</th>\n",
       "      <td>می توانم دوستم را بیاورم</td>\n",
       "      <td>/media/data/soroosh/dataset/ASR/cv-fa-6.1/cv-c...</td>\n",
       "    </tr>\n",
       "    <tr>\n",
       "      <th>2</th>\n",
       "      <td>که شامل بسیاری از رفتارهای متفاوت میشود</td>\n",
       "      <td>/media/data/soroosh/dataset/ASR/cv-fa-6.1/cv-c...</td>\n",
       "    </tr>\n",
       "    <tr>\n",
       "      <th>3</th>\n",
       "      <td>طرف چپ شکمم درد میکنه شبها نمیتونم روش بخوابم</td>\n",
       "      <td>/media/data/soroosh/dataset/ASR/cv-fa-6.1/cv-c...</td>\n",
       "    </tr>\n",
       "    <tr>\n",
       "      <th>4</th>\n",
       "      <td>اسلایدسازم</td>\n",
       "      <td>/media/data/soroosh/dataset/ASR/cv-fa-6.1/cv-c...</td>\n",
       "    </tr>\n",
       "  </tbody>\n",
       "</table>\n",
       "</div>"
      ],
      "text/plain": [
       "                                         sentence  \\\n",
       "0                         آیا این شراب شیرین است    \n",
       "1                       می توانم دوستم را بیاورم    \n",
       "2        که شامل بسیاری از رفتارهای متفاوت میشود    \n",
       "3  طرف چپ شکمم درد میکنه شبها نمیتونم روش بخوابم    \n",
       "4                                     اسلایدسازم    \n",
       "\n",
       "                                                path  \n",
       "0  /media/data/soroosh/dataset/ASR/cv-fa-6.1/cv-c...  \n",
       "1  /media/data/soroosh/dataset/ASR/cv-fa-6.1/cv-c...  \n",
       "2  /media/data/soroosh/dataset/ASR/cv-fa-6.1/cv-c...  \n",
       "3  /media/data/soroosh/dataset/ASR/cv-fa-6.1/cv-c...  \n",
       "4  /media/data/soroosh/dataset/ASR/cv-fa-6.1/cv-c...  "
      ]
     },
     "execution_count": 7,
     "metadata": {},
     "output_type": "execute_result"
    }
   ],
   "source": [
    "# print(f\"Step 0: {len(valid)}\")\n",
    "\n",
    "# valid[\"status\"] = valid[\"path\"].apply(lambda path: True if os.path.exists(path) else None)\n",
    "# valid = valid.dropna(subset=[\"path\"])\n",
    "# valid = valid.drop(\"status\", 1)\n",
    "# print(f\"Step 1: {len(valid)}\")\n",
    "\n",
    "# # df[\"prev_sentence\"] = df[\"sentence\"]\n",
    "# valid[\"sentence\"] = valid[\"sentence\"].apply(lambda t: normalizer(t))\n",
    "# valid = valid.dropna(subset=[\"sentence\"])\n",
    "# print(f\"Step 2: {len(valid)}\")\n",
    "\n",
    "# valid['path'] = valid['path'].apply(lambda path: cv_path + 'clips/' + path)\n",
    "# valid = valid[[\"sentence\", \"path\"]]\n",
    "# valid = valid.sample(frac=1)\n",
    "# valid = valid.reset_index(drop=True)\n",
    "\n",
    "valid.head()"
   ]
  },
  {
   "cell_type": "code",
   "execution_count": 13,
   "id": "bulgarian-research",
   "metadata": {},
   "outputs": [
    {
     "data": {
      "application/vnd.jupyter.widget-view+json": {
       "model_id": "1f8e8bf8452c47248b1855ebaa4fb88c",
       "version_major": 2,
       "version_minor": 0
      },
      "text/plain": [
       "HBox(children=(FloatProgress(value=0.0, max=251659.0), HTML(value='')))"
      ]
     },
     "metadata": {},
     "output_type": "display_data"
    },
    {
     "name": "stdout",
     "output_type": "stream",
     "text": [
      "\n"
     ]
    }
   ],
   "source": [
    "from joblib import Parallel, delayed\n",
    "\n",
    "save_dir = '/media/data/soroosh/dataset/ASR/cv-fa-6.1/cv-corpus-6.1-2020-12-11/np/'\n",
    "\n",
    "def save2np(file):\n",
    "    x, _ = librosa.load(file, sr=16000)\n",
    "    np.save(save_dir + file.split('/')[-1][:-4], x)\n",
    "\n",
    "_ = Parallel(n_jobs=20)(delayed(save2np)(file) for file in tqdm(valid['path']))"
   ]
  },
  {
   "cell_type": "code",
   "execution_count": 15,
   "id": "solid-aerospace",
   "metadata": {},
   "outputs": [
    {
     "data": {
      "application/vnd.jupyter.widget-view+json": {
       "model_id": "b14223bd4e6c4961b99b9d7be57695d7",
       "version_major": 2,
       "version_minor": 0
      },
      "text/plain": [
       "HBox(children=(FloatProgress(value=0.0, max=251659.0), HTML(value='')))"
      ]
     },
     "metadata": {},
     "output_type": "display_data"
    },
    {
     "name": "stdout",
     "output_type": "stream",
     "text": [
      "\n"
     ]
    },
    {
     "data": {
      "text/html": [
       "<div>\n",
       "<style scoped>\n",
       "    .dataframe tbody tr th:only-of-type {\n",
       "        vertical-align: middle;\n",
       "    }\n",
       "\n",
       "    .dataframe tbody tr th {\n",
       "        vertical-align: top;\n",
       "    }\n",
       "\n",
       "    .dataframe thead th {\n",
       "        text-align: right;\n",
       "    }\n",
       "</style>\n",
       "<table border=\"1\" class=\"dataframe\">\n",
       "  <thead>\n",
       "    <tr style=\"text-align: right;\">\n",
       "      <th></th>\n",
       "      <th>sentence</th>\n",
       "      <th>path</th>\n",
       "      <th>np_path</th>\n",
       "    </tr>\n",
       "  </thead>\n",
       "  <tbody>\n",
       "    <tr>\n",
       "      <th>0</th>\n",
       "      <td>آیا این شراب شیرین است</td>\n",
       "      <td>/media/data/soroosh/dataset/ASR/cv-fa-6.1/cv-c...</td>\n",
       "      <td>/media/data/soroosh/dataset/ASR/cv-fa-6.1/cv-c...</td>\n",
       "    </tr>\n",
       "    <tr>\n",
       "      <th>1</th>\n",
       "      <td>می توانم دوستم را بیاورم</td>\n",
       "      <td>/media/data/soroosh/dataset/ASR/cv-fa-6.1/cv-c...</td>\n",
       "      <td>/media/data/soroosh/dataset/ASR/cv-fa-6.1/cv-c...</td>\n",
       "    </tr>\n",
       "    <tr>\n",
       "      <th>2</th>\n",
       "      <td>که شامل بسیاری از رفتارهای متفاوت میشود</td>\n",
       "      <td>/media/data/soroosh/dataset/ASR/cv-fa-6.1/cv-c...</td>\n",
       "      <td>/media/data/soroosh/dataset/ASR/cv-fa-6.1/cv-c...</td>\n",
       "    </tr>\n",
       "    <tr>\n",
       "      <th>3</th>\n",
       "      <td>طرف چپ شکمم درد میکنه شبها نمیتونم روش بخوابم</td>\n",
       "      <td>/media/data/soroosh/dataset/ASR/cv-fa-6.1/cv-c...</td>\n",
       "      <td>/media/data/soroosh/dataset/ASR/cv-fa-6.1/cv-c...</td>\n",
       "    </tr>\n",
       "    <tr>\n",
       "      <th>4</th>\n",
       "      <td>اسلایدسازم</td>\n",
       "      <td>/media/data/soroosh/dataset/ASR/cv-fa-6.1/cv-c...</td>\n",
       "      <td>/media/data/soroosh/dataset/ASR/cv-fa-6.1/cv-c...</td>\n",
       "    </tr>\n",
       "  </tbody>\n",
       "</table>\n",
       "</div>"
      ],
      "text/plain": [
       "                                         sentence  \\\n",
       "0                         آیا این شراب شیرین است    \n",
       "1                       می توانم دوستم را بیاورم    \n",
       "2        که شامل بسیاری از رفتارهای متفاوت میشود    \n",
       "3  طرف چپ شکمم درد میکنه شبها نمیتونم روش بخوابم    \n",
       "4                                     اسلایدسازم    \n",
       "\n",
       "                                                path  \\\n",
       "0  /media/data/soroosh/dataset/ASR/cv-fa-6.1/cv-c...   \n",
       "1  /media/data/soroosh/dataset/ASR/cv-fa-6.1/cv-c...   \n",
       "2  /media/data/soroosh/dataset/ASR/cv-fa-6.1/cv-c...   \n",
       "3  /media/data/soroosh/dataset/ASR/cv-fa-6.1/cv-c...   \n",
       "4  /media/data/soroosh/dataset/ASR/cv-fa-6.1/cv-c...   \n",
       "\n",
       "                                             np_path  \n",
       "0  /media/data/soroosh/dataset/ASR/cv-fa-6.1/cv-c...  \n",
       "1  /media/data/soroosh/dataset/ASR/cv-fa-6.1/cv-c...  \n",
       "2  /media/data/soroosh/dataset/ASR/cv-fa-6.1/cv-c...  \n",
       "3  /media/data/soroosh/dataset/ASR/cv-fa-6.1/cv-c...  \n",
       "4  /media/data/soroosh/dataset/ASR/cv-fa-6.1/cv-c...  "
      ]
     },
     "execution_count": 15,
     "metadata": {},
     "output_type": "execute_result"
    }
   ],
   "source": [
    "valid['np_path'] = valid['path'].progress_apply(lambda path: save_dir + path.split('/')[-1][:-4] + '.npy')\n",
    "valid.head()"
   ]
  },
  {
   "cell_type": "code",
   "execution_count": 25,
   "id": "regional-lending",
   "metadata": {},
   "outputs": [
    {
     "data": {
      "application/vnd.jupyter.widget-view+json": {
       "model_id": "6c6af1bc2891480499359a18c6d05c6e",
       "version_major": 2,
       "version_minor": 0
      },
      "text/plain": [
       "HBox(children=(FloatProgress(value=0.0, max=251659.0), HTML(value='')))"
      ]
     },
     "metadata": {},
     "output_type": "display_data"
    },
    {
     "name": "stdout",
     "output_type": "stream",
     "text": [
      "\n"
     ]
    },
    {
     "data": {
      "text/html": [
       "<div>\n",
       "<style scoped>\n",
       "    .dataframe tbody tr th:only-of-type {\n",
       "        vertical-align: middle;\n",
       "    }\n",
       "\n",
       "    .dataframe tbody tr th {\n",
       "        vertical-align: top;\n",
       "    }\n",
       "\n",
       "    .dataframe thead th {\n",
       "        text-align: right;\n",
       "    }\n",
       "</style>\n",
       "<table border=\"1\" class=\"dataframe\">\n",
       "  <thead>\n",
       "    <tr style=\"text-align: right;\">\n",
       "      <th></th>\n",
       "      <th>sentence</th>\n",
       "      <th>path</th>\n",
       "      <th>np_path</th>\n",
       "      <th>duration</th>\n",
       "    </tr>\n",
       "  </thead>\n",
       "  <tbody>\n",
       "    <tr>\n",
       "      <th>0</th>\n",
       "      <td>آیا این شراب شیرین است</td>\n",
       "      <td>/media/data/soroosh/dataset/ASR/cv-fa-6.1/cv-c...</td>\n",
       "      <td>/media/data/soroosh/dataset/ASR/cv-fa-6.1/cv-c...</td>\n",
       "      <td>2.592</td>\n",
       "    </tr>\n",
       "    <tr>\n",
       "      <th>1</th>\n",
       "      <td>می توانم دوستم را بیاورم</td>\n",
       "      <td>/media/data/soroosh/dataset/ASR/cv-fa-6.1/cv-c...</td>\n",
       "      <td>/media/data/soroosh/dataset/ASR/cv-fa-6.1/cv-c...</td>\n",
       "      <td>2.904</td>\n",
       "    </tr>\n",
       "    <tr>\n",
       "      <th>2</th>\n",
       "      <td>که شامل بسیاری از رفتارهای متفاوت میشود</td>\n",
       "      <td>/media/data/soroosh/dataset/ASR/cv-fa-6.1/cv-c...</td>\n",
       "      <td>/media/data/soroosh/dataset/ASR/cv-fa-6.1/cv-c...</td>\n",
       "      <td>4.416</td>\n",
       "    </tr>\n",
       "    <tr>\n",
       "      <th>3</th>\n",
       "      <td>طرف چپ شکمم درد میکنه شبها نمیتونم روش بخوابم</td>\n",
       "      <td>/media/data/soroosh/dataset/ASR/cv-fa-6.1/cv-c...</td>\n",
       "      <td>/media/data/soroosh/dataset/ASR/cv-fa-6.1/cv-c...</td>\n",
       "      <td>5.664</td>\n",
       "    </tr>\n",
       "    <tr>\n",
       "      <th>4</th>\n",
       "      <td>اسلایدسازم</td>\n",
       "      <td>/media/data/soroosh/dataset/ASR/cv-fa-6.1/cv-c...</td>\n",
       "      <td>/media/data/soroosh/dataset/ASR/cv-fa-6.1/cv-c...</td>\n",
       "      <td>2.736</td>\n",
       "    </tr>\n",
       "  </tbody>\n",
       "</table>\n",
       "</div>"
      ],
      "text/plain": [
       "                                         sentence  \\\n",
       "0                         آیا این شراب شیرین است    \n",
       "1                       می توانم دوستم را بیاورم    \n",
       "2        که شامل بسیاری از رفتارهای متفاوت میشود    \n",
       "3  طرف چپ شکمم درد میکنه شبها نمیتونم روش بخوابم    \n",
       "4                                     اسلایدسازم    \n",
       "\n",
       "                                                path  \\\n",
       "0  /media/data/soroosh/dataset/ASR/cv-fa-6.1/cv-c...   \n",
       "1  /media/data/soroosh/dataset/ASR/cv-fa-6.1/cv-c...   \n",
       "2  /media/data/soroosh/dataset/ASR/cv-fa-6.1/cv-c...   \n",
       "3  /media/data/soroosh/dataset/ASR/cv-fa-6.1/cv-c...   \n",
       "4  /media/data/soroosh/dataset/ASR/cv-fa-6.1/cv-c...   \n",
       "\n",
       "                                             np_path  duration  \n",
       "0  /media/data/soroosh/dataset/ASR/cv-fa-6.1/cv-c...     2.592  \n",
       "1  /media/data/soroosh/dataset/ASR/cv-fa-6.1/cv-c...     2.904  \n",
       "2  /media/data/soroosh/dataset/ASR/cv-fa-6.1/cv-c...     4.416  \n",
       "3  /media/data/soroosh/dataset/ASR/cv-fa-6.1/cv-c...     5.664  \n",
       "4  /media/data/soroosh/dataset/ASR/cv-fa-6.1/cv-c...     2.736  "
      ]
     },
     "execution_count": 25,
     "metadata": {},
     "output_type": "execute_result"
    }
   ],
   "source": [
    "valid['duration'] = valid['np_path'].progress_apply(lambda p: np.load(p).shape[0]/ 16000)\n",
    "valid.head()"
   ]
  },
  {
   "cell_type": "code",
   "execution_count": 26,
   "id": "handed-start",
   "metadata": {},
   "outputs": [
    {
     "name": "stdout",
     "output_type": "stream",
     "text": [
      "(203843, 4)\n",
      "(25166, 4)\n",
      "(25166, 4)\n"
     ]
    }
   ],
   "source": [
    "train_df, test_df = train_test_split(valid, test_size=0.1, random_state=101)\n",
    "train_df, val_df = train_test_split(train_df, test_size=0.1, random_state=101)\n",
    "\n",
    "train_df = train_df.reset_index(drop=True)\n",
    "test_df = test_df.reset_index(drop=True)\n",
    "val_df = test_df.reset_index(drop=True)\n",
    "\n",
    "print(train_df.shape)\n",
    "print(test_df.shape)\n",
    "print(val_df.shape)"
   ]
  },
  {
   "cell_type": "code",
   "execution_count": 27,
   "id": "initial-blend",
   "metadata": {},
   "outputs": [],
   "source": [
    "valid.to_csv(f\"{cv_path}validated.csv\", encoding=\"utf-8\", index=False)\n",
    "train_df.to_csv(f\"{cv_path}train.csv\", encoding=\"utf-8\", index=False)\n",
    "test_df.to_csv(f\"{cv_path}test.csv\", encoding=\"utf-8\", index=False)\n",
    "val_df.to_csv(f\"{cv_path}val.csv\", encoding=\"utf-8\", index=False)"
   ]
  },
  {
   "cell_type": "code",
   "execution_count": 11,
   "id": "restricted-joining",
   "metadata": {},
   "outputs": [
    {
     "data": {
      "text/plain": [
       "36"
      ]
     },
     "execution_count": 11,
     "metadata": {},
     "output_type": "execute_result"
    }
   ],
   "source": [
    "sents = valid['sentence']\n",
    "a = set()\n",
    "for s in sents:\n",
    "    a.update(list(s))\n",
    "vocab_list = list(a)\n",
    "len(vocab_list)"
   ]
  },
  {
   "cell_type": "code",
   "execution_count": 14,
   "id": "logical-colombia",
   "metadata": {},
   "outputs": [
    {
     "name": "stdout",
     "output_type": "stream",
     "text": [
      "vocab:\n",
      "40\n",
      "{'<pad>': 0, '<s>': 1, '</s>': 2, '<unk>': 3, '|': 4, 'ب': 5, 'ی': 6, 'غ': 7, 'ش': 8, 'آ': 9, 'ت': 10, 'خ': 11, 'پ': 12, 'ض': 13, 'ژ': 14, 'ئ': 15, 'ر': 16, 'ن': 17, 'ل': 18, 'س': 19, 'ء': 20, 'چ': 21, 'ح': 22, 'ط': 23, 'ظ': 24, 'گ': 25, 'ک': 26, 'و': 27, 'ذ': 28, 'د': 29, 'ف': 30, 'ق': 31, 'ج': 32, 'ا': 33, 'ث': 34, 'ص': 35, 'ه': 36, 'ز': 37, 'م': 38, 'ع': 39}\n"
     ]
    }
   ],
   "source": [
    "special_vocab = [\"<pad>\", \"<s>\", \"</s>\", \"<unk>\", \"|\"]\n",
    "vocab_list = [vocab for vocab in vocab_list if vocab not in [\" \", \"\\u0307\"]]\n",
    "vocab_dict = {v: k for k, v in enumerate(special_vocab + vocab_list)}\n",
    "print('vocab:')\n",
    "print(len(vocab_dict))\n",
    "print(vocab_dict)\n",
    "\n",
    "with open('fa-vocab.json', 'w') as vocab_file:\n",
    "    json.dump(vocab_dict, vocab_file)"
   ]
  },
  {
   "cell_type": "markdown",
   "id": "breeding-majority",
   "metadata": {},
   "source": [
    "## SHEMO"
   ]
  },
  {
   "cell_type": "code",
   "execution_count": 20,
   "id": "superb-steps",
   "metadata": {},
   "outputs": [
    {
     "name": "stderr",
     "output_type": "stream",
     "text": [
      "100%|██████████| 3000/3000 [00:00<00:00, 28412.39it/s]"
     ]
    },
    {
     "name": "stdout",
     "output_type": "stream",
     "text": [
      "(2838, 4)\n"
     ]
    },
    {
     "name": "stderr",
     "output_type": "stream",
     "text": [
      "\n"
     ]
    },
    {
     "data": {
      "text/html": [
       "<div>\n",
       "<style scoped>\n",
       "    .dataframe tbody tr th:only-of-type {\n",
       "        vertical-align: middle;\n",
       "    }\n",
       "\n",
       "    .dataframe tbody tr th {\n",
       "        vertical-align: top;\n",
       "    }\n",
       "\n",
       "    .dataframe thead th {\n",
       "        text-align: right;\n",
       "    }\n",
       "</style>\n",
       "<table border=\"1\" class=\"dataframe\">\n",
       "  <thead>\n",
       "    <tr style=\"text-align: right;\">\n",
       "      <th></th>\n",
       "      <th>_id</th>\n",
       "      <th>sentence</th>\n",
       "      <th>path</th>\n",
       "      <th>gender</th>\n",
       "    </tr>\n",
       "  </thead>\n",
       "  <tbody>\n",
       "    <tr>\n",
       "      <th>0</th>\n",
       "      <td>F21W13</td>\n",
       "      <td>دورانت؟</td>\n",
       "      <td>/media/data/soroosh/dataset/ASR/shemo-fa//fema...</td>\n",
       "      <td>F</td>\n",
       "    </tr>\n",
       "    <tr>\n",
       "      <th>1</th>\n",
       "      <td>F24A49</td>\n",
       "      <td>عزیزم تو از همه بهتر می‌نویسی و همه آماتورهایی...</td>\n",
       "      <td>/media/data/soroosh/dataset/ASR/shemo-fa//fema...</td>\n",
       "      <td>F</td>\n",
       "    </tr>\n",
       "    <tr>\n",
       "      <th>2</th>\n",
       "      <td>F03A03</td>\n",
       "      <td>به فکر کارهای خودتی.</td>\n",
       "      <td>/media/data/soroosh/dataset/ASR/shemo-fa//fema...</td>\n",
       "      <td>F</td>\n",
       "    </tr>\n",
       "    <tr>\n",
       "      <th>3</th>\n",
       "      <td>M12A44</td>\n",
       "      <td>تو نمی‎تونی منو شستشوی مغزی بدی\\n</td>\n",
       "      <td>/media/data/soroosh/dataset/ASR/shemo-fa//male...</td>\n",
       "      <td>M</td>\n",
       "    </tr>\n",
       "    <tr>\n",
       "      <th>4</th>\n",
       "      <td>M03A22</td>\n",
       "      <td>جیسون کامسون، نکنه گوشات کره؟\\n</td>\n",
       "      <td>/media/data/soroosh/dataset/ASR/shemo-fa//male...</td>\n",
       "      <td>M</td>\n",
       "    </tr>\n",
       "  </tbody>\n",
       "</table>\n",
       "</div>"
      ],
      "text/plain": [
       "      _id                                           sentence  \\\n",
       "0  F21W13                                            دورانت؟   \n",
       "1  F24A49  عزیزم تو از همه بهتر می‌نویسی و همه آماتورهایی...   \n",
       "2  F03A03                               به فکر کارهای خودتی.   \n",
       "3  M12A44                  تو نمی‎تونی منو شستشوی مغزی بدی\\n   \n",
       "4  M03A22                    جیسون کامسون، نکنه گوشات کره؟\\n   \n",
       "\n",
       "                                                path gender  \n",
       "0  /media/data/soroosh/dataset/ASR/shemo-fa//fema...      F  \n",
       "1  /media/data/soroosh/dataset/ASR/shemo-fa//fema...      F  \n",
       "2  /media/data/soroosh/dataset/ASR/shemo-fa//fema...      F  \n",
       "3  /media/data/soroosh/dataset/ASR/shemo-fa//male...      M  \n",
       "4  /media/data/soroosh/dataset/ASR/shemo-fa//male...      M  "
      ]
     },
     "execution_count": 20,
     "metadata": {},
     "output_type": "execute_result"
    }
   ],
   "source": [
    "abs_path_to_data = '/media/data/soroosh/dataset/ASR/shemo-fa/'\n",
    "data = []\n",
    "for txtfile in tqdm(glob.glob(f\"{abs_path_to_data}/transcript/final text/*.ort\")):\n",
    "    with open(txtfile, \"r\", encoding=\"utf-8\") as f:\n",
    "        text = f.read()\n",
    "        _id = txtfile.split(\"/\")[-1].split(\".\")[0]\n",
    "        male_path = f\"{abs_path_to_data}/male/{_id}.wav\"\n",
    "        female_path = f\"{abs_path_to_data}/female/{_id}.wav\"\n",
    "        \n",
    "        if \"M\" in _id and os.path.exists(male_path):\n",
    "            data.append({\n",
    "                \"_id\": _id,\n",
    "                \"sentence\": text,\n",
    "                \"path\": male_path.strip(),\n",
    "                \"gender\": \"M\"\n",
    "            })\n",
    "        \n",
    "        if \"F\" in _id and os.path.exists(female_path):\n",
    "            data.append({\n",
    "                \"_id\": _id,\n",
    "                \"sentence\": text.strip(),\n",
    "                \"path\": female_path.strip(),\n",
    "                \"gender\": \"F\"\n",
    "            })\n",
    "\n",
    "    \n",
    "df = pd.DataFrame(data)\n",
    "print(df.shape)\n",
    "df.head()"
   ]
  },
  {
   "cell_type": "code",
   "execution_count": 21,
   "id": "greenhouse-rhythm",
   "metadata": {},
   "outputs": [
    {
     "name": "stdout",
     "output_type": "stream",
     "text": [
      "Step 0: 2838\n",
      "Step 1: 2838\n",
      "Step 2: 2838\n"
     ]
    },
    {
     "data": {
      "text/html": [
       "<div>\n",
       "<style scoped>\n",
       "    .dataframe tbody tr th:only-of-type {\n",
       "        vertical-align: middle;\n",
       "    }\n",
       "\n",
       "    .dataframe tbody tr th {\n",
       "        vertical-align: top;\n",
       "    }\n",
       "\n",
       "    .dataframe thead th {\n",
       "        text-align: right;\n",
       "    }\n",
       "</style>\n",
       "<table border=\"1\" class=\"dataframe\">\n",
       "  <thead>\n",
       "    <tr style=\"text-align: right;\">\n",
       "      <th></th>\n",
       "      <th>_id</th>\n",
       "      <th>sentence</th>\n",
       "      <th>path</th>\n",
       "      <th>gender</th>\n",
       "    </tr>\n",
       "  </thead>\n",
       "  <tbody>\n",
       "    <tr>\n",
       "      <th>0</th>\n",
       "      <td>M29A12</td>\n",
       "      <td>فقط آن ها اسرار قصر مرا می دونن</td>\n",
       "      <td>/media/data/soroosh/dataset/ASR/shemo-fa//male...</td>\n",
       "      <td>M</td>\n",
       "    </tr>\n",
       "    <tr>\n",
       "      <th>1</th>\n",
       "      <td>F24N08</td>\n",
       "      <td>مشکل زیاده</td>\n",
       "      <td>/media/data/soroosh/dataset/ASR/shemo-fa//fema...</td>\n",
       "      <td>F</td>\n",
       "    </tr>\n",
       "    <tr>\n",
       "      <th>2</th>\n",
       "      <td>M02H03</td>\n",
       "      <td>بفرمایید تو رو خدا بفرمایید خوش اومدید بفرمایی...</td>\n",
       "      <td>/media/data/soroosh/dataset/ASR/shemo-fa//male...</td>\n",
       "      <td>M</td>\n",
       "    </tr>\n",
       "    <tr>\n",
       "      <th>3</th>\n",
       "      <td>M16A13</td>\n",
       "      <td>من یه عمره آرزو دارم صاحاب دکون بشم</td>\n",
       "      <td>/media/data/soroosh/dataset/ASR/shemo-fa//male...</td>\n",
       "      <td>M</td>\n",
       "    </tr>\n",
       "    <tr>\n",
       "      <th>4</th>\n",
       "      <td>F07S16</td>\n",
       "      <td>نه جورج اون نمرد من دروغ گفتم ویکی هم جلوی دهن...</td>\n",
       "      <td>/media/data/soroosh/dataset/ASR/shemo-fa//fema...</td>\n",
       "      <td>F</td>\n",
       "    </tr>\n",
       "  </tbody>\n",
       "</table>\n",
       "</div>"
      ],
      "text/plain": [
       "      _id                                           sentence  \\\n",
       "0  M29A12                   فقط آن ها اسرار قصر مرا می دونن    \n",
       "1  F24N08                                        مشکل زیاده    \n",
       "2  M02H03  بفرمایید تو رو خدا بفرمایید خوش اومدید بفرمایی...   \n",
       "3  M16A13               من یه عمره آرزو دارم صاحاب دکون بشم    \n",
       "4  F07S16  نه جورج اون نمرد من دروغ گفتم ویکی هم جلوی دهن...   \n",
       "\n",
       "                                                path gender  \n",
       "0  /media/data/soroosh/dataset/ASR/shemo-fa//male...      M  \n",
       "1  /media/data/soroosh/dataset/ASR/shemo-fa//fema...      F  \n",
       "2  /media/data/soroosh/dataset/ASR/shemo-fa//male...      M  \n",
       "3  /media/data/soroosh/dataset/ASR/shemo-fa//male...      M  \n",
       "4  /media/data/soroosh/dataset/ASR/shemo-fa//fema...      F  "
      ]
     },
     "execution_count": 21,
     "metadata": {},
     "output_type": "execute_result"
    }
   ],
   "source": [
    "print(f\"Step 0: {len(df)}\")\n",
    "\n",
    "df[\"status\"] = df[\"path\"].apply(lambda path: True if os.path.exists(path) else None)\n",
    "df = df.dropna(subset=[\"path\"])\n",
    "df = df.drop(\"status\", 1)\n",
    "print(f\"Step 1: {len(df)}\")\n",
    "\n",
    "# df[\"prev_sentence\"] = df[\"sentence\"]\n",
    "df[\"sentence\"] = df[\"sentence\"].apply(lambda t: normalizer(t))\n",
    "df = df.dropna(subset=[\"sentence\"])\n",
    "print(f\"Step 2: {len(df)}\")\n",
    "\n",
    "\n",
    "# df = df[[\"sentence\", \"path\"]]\n",
    "df = df.sample(frac=1)\n",
    "df = df.reset_index(drop=True)\n",
    "df.head()"
   ]
  },
  {
   "cell_type": "code",
   "execution_count": 17,
   "id": "golden-breach",
   "metadata": {},
   "outputs": [
    {
     "name": "stdout",
     "output_type": "stream",
     "text": [
      "33 36\n",
      "[' ', 'ء', 'آ', 'ئ', 'ا', 'ب', 'ت', 'ث', 'ج', 'ح', 'خ', 'د', 'ذ', 'ر', 'ز', 'س', 'ش', 'ص', 'ض', 'ط', 'ظ', 'ع', 'غ', 'ف', 'ق', 'ل', 'م', 'ن', 'ه', 'و', 'پ', 'چ', 'ژ', 'ک', 'گ', 'ی']\n"
     ]
    }
   ],
   "source": [
    "main_vocab = [\"ح\", \"چ\", \"ج\", \"ث\", \"ت\", \"پ\", \"ب\", \"آ\", \"ا\", \"ش\", \"س\", \"ژ\", \"ز\", \"ر\", \"ذ\", \"د\", \"خ\", \"ق\", \"ف\", \"غ\", \"ع\", \"ظ\", \"ط\", \"ض\", \"ص\", \"ی\", \"ه\", \"و\", \"ن\", \"م\", \"ل\", \"گ\", \"ک\"]\n",
    "text = \" \".join(df[\"sentence\"].values.tolist())\n",
    "vocab = list(sorted(set(text)))\n",
    "\n",
    "for v in main_vocab:\n",
    "    if v not in vocab:\n",
    "        print(\"v\", v)\n",
    "\n",
    "print(len(main_vocab), len(vocab))\n",
    "print(vocab)"
   ]
  },
  {
   "cell_type": "code",
   "execution_count": 18,
   "id": "smooth-iceland",
   "metadata": {},
   "outputs": [
    {
     "name": "stdout",
     "output_type": "stream",
     "text": [
      "0\n",
      "تو بیمار شدی پل دوست نداری با هیچ کس معاشرت کنی از صبح تا شب کنج این خونه لعنتی چپیدی  \n",
      "\n"
     ]
    },
    {
     "data": {
      "text/html": [
       "\n",
       "                <audio  controls=\"controls\" autoplay=\"autoplay\">\n",
       "                    <source src=\"data:audio/wav;base64,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\" type=\"audio/wav\" />\n",
       "                    Your browser does not support the audio element.\n",
       "                </audio>\n",
       "              "
      ],
      "text/plain": [
       "<IPython.lib.display.Audio object>"
      ]
     },
     "execution_count": 18,
     "metadata": {},
     "output_type": "execute_result"
    }
   ],
   "source": [
    "import torchaudio\n",
    "import librosa\n",
    "import IPython.display as ipd\n",
    "import numpy as np\n",
    "\n",
    "idx = 0#np.random.randint(0, len(df))\n",
    "print(idx)\n",
    "sample = df.iloc[idx]\n",
    "\n",
    "path = sample[\"path\"]\n",
    "print(sample[\"sentence\"], \"\\n\")\n",
    "speech, sr = torchaudio.load(path)\n",
    "speech = speech[0].numpy().squeeze()\n",
    "\n",
    "speech = librosa.resample(np.asarray(speech), sr, 16_000)\n",
    "ipd.Audio(data=np.asarray(speech), autoplay=True, rate=16000)"
   ]
  },
  {
   "cell_type": "code",
   "execution_count": 22,
   "id": "timely-justice",
   "metadata": {},
   "outputs": [
    {
     "name": "stdout",
     "output_type": "stream",
     "text": [
      "(2554, 2)\n",
      "(284, 2)\n"
     ]
    }
   ],
   "source": [
    "train_df, test_df = train_test_split(df, test_size=0.1, random_state=101, stratify=df[\"gender\"])\n",
    "\n",
    "train_df = train_df[[\"path\", \"sentence\"]]\n",
    "train_df = train_df.reset_index(drop=True)\n",
    "\n",
    "test_df = test_df[[\"path\", \"sentence\"]]\n",
    "test_df = test_df.reset_index(drop=True)\n",
    "\n",
    "print(train_df.shape)\n",
    "print(test_df.shape)"
   ]
  },
  {
   "cell_type": "code",
   "execution_count": null,
   "id": "molecular-casino",
   "metadata": {},
   "outputs": [],
   "source": [
    "save_path = \"/\".join(abs_path_to_data.split('/'))\n",
    "print(save_path)\n",
    "\n",
    "train_df.to_csv(f\"{save_path}/train.csv\", sep=\"\\t\", encoding=\"utf-8\", index=False)\n",
    "test_df.to_csv(f\"{save_path}/test.csv\", sep=\"\\t\", encoding=\"utf-8\", index=False)\n",
    "\n",
    "print(train_df.shape)\n",
    "print(test_df.shape)"
   ]
  },
  {
   "cell_type": "code",
   "execution_count": 3,
   "id": "organizational-peoples",
   "metadata": {},
   "outputs": [
    {
     "data": {
      "text/html": [
       "<div>\n",
       "<style scoped>\n",
       "    .dataframe tbody tr th:only-of-type {\n",
       "        vertical-align: middle;\n",
       "    }\n",
       "\n",
       "    .dataframe tbody tr th {\n",
       "        vertical-align: top;\n",
       "    }\n",
       "\n",
       "    .dataframe thead th {\n",
       "        text-align: right;\n",
       "    }\n",
       "</style>\n",
       "<table border=\"1\" class=\"dataframe\">\n",
       "  <thead>\n",
       "    <tr style=\"text-align: right;\">\n",
       "      <th></th>\n",
       "      <th>path</th>\n",
       "      <th>sentence</th>\n",
       "    </tr>\n",
       "  </thead>\n",
       "  <tbody>\n",
       "    <tr>\n",
       "      <th>0</th>\n",
       "      <td>/media/data/soroosh/dataset/ASR/shemo-fa//male...</td>\n",
       "      <td>من به احترام شما خواستم اون تابلو رو از اتاق د...</td>\n",
       "    </tr>\n",
       "    <tr>\n",
       "      <th>1</th>\n",
       "      <td>/media/data/soroosh/dataset/ASR/shemo-fa//fema...</td>\n",
       "      <td>دکتر جهانگیری برای امیر از ماجرای یک شب سرد بر...</td>\n",
       "    </tr>\n",
       "    <tr>\n",
       "      <th>2</th>\n",
       "      <td>/media/data/soroosh/dataset/ASR/shemo-fa//male...</td>\n",
       "      <td>من روان شناس تیم پیوندم</td>\n",
       "    </tr>\n",
       "    <tr>\n",
       "      <th>3</th>\n",
       "      <td>/media/data/soroosh/dataset/ASR/shemo-fa//fema...</td>\n",
       "      <td>من کسانی رو نگه می دارم که دوسشون دارم و می خو...</td>\n",
       "    </tr>\n",
       "    <tr>\n",
       "      <th>4</th>\n",
       "      <td>/media/data/soroosh/dataset/ASR/shemo-fa//male...</td>\n",
       "      <td>ببرمش بزارمش تو کوچه</td>\n",
       "    </tr>\n",
       "  </tbody>\n",
       "</table>\n",
       "</div>"
      ],
      "text/plain": [
       "                                                path  \\\n",
       "0  /media/data/soroosh/dataset/ASR/shemo-fa//male...   \n",
       "1  /media/data/soroosh/dataset/ASR/shemo-fa//fema...   \n",
       "2  /media/data/soroosh/dataset/ASR/shemo-fa//male...   \n",
       "3  /media/data/soroosh/dataset/ASR/shemo-fa//fema...   \n",
       "4  /media/data/soroosh/dataset/ASR/shemo-fa//male...   \n",
       "\n",
       "                                            sentence  \n",
       "0  من به احترام شما خواستم اون تابلو رو از اتاق د...  \n",
       "1  دکتر جهانگیری برای امیر از ماجرای یک شب سرد بر...  \n",
       "2                           من روان شناس تیم پیوندم   \n",
       "3  من کسانی رو نگه می دارم که دوسشون دارم و می خو...  \n",
       "4                              ببرمش بزارمش تو کوچه   "
      ]
     },
     "execution_count": 3,
     "metadata": {},
     "output_type": "execute_result"
    }
   ],
   "source": [
    "path = '/media/data/soroosh/dataset/ASR/shemo-fa/'\n",
    "train = pd.read_csv(path +'test.csv', delimiter='\\t')\n",
    "train.head()"
   ]
  },
  {
   "cell_type": "code",
   "execution_count": 4,
   "id": "rational-proof",
   "metadata": {},
   "outputs": [
    {
     "data": {
      "application/vnd.jupyter.widget-view+json": {
       "model_id": "bfb1ba834f9f4a5eb6f72cea808cb6f6",
       "version_major": 2,
       "version_minor": 0
      },
      "text/plain": [
       "HBox(children=(FloatProgress(value=0.0, max=2554.0), HTML(value='')))"
      ]
     },
     "metadata": {},
     "output_type": "display_data"
    },
    {
     "name": "stdout",
     "output_type": "stream",
     "text": [
      "\n"
     ]
    }
   ],
   "source": [
    "from joblib import Parallel, delayed\n",
    "\n",
    "save_dir = '/media/data/soroosh/dataset/ASR/shemo-fa/np/'\n",
    "\n",
    "def save2np(file):\n",
    "    x, _ = librosa.load(file, sr=16000)\n",
    "    np.save(save_dir + file.split('/')[-1][:-4], x)\n",
    "\n",
    "_ = Parallel(n_jobs=20)(delayed(save2np)(file) for file in tqdm(train['path']))"
   ]
  },
  {
   "cell_type": "code",
   "execution_count": 5,
   "id": "powerful-scotland",
   "metadata": {},
   "outputs": [
    {
     "data": {
      "application/vnd.jupyter.widget-view+json": {
       "model_id": "f80e4c9f9c0d4883a0f3522c474abe4d",
       "version_major": 2,
       "version_minor": 0
      },
      "text/plain": [
       "HBox(children=(FloatProgress(value=0.0, max=2554.0), HTML(value='')))"
      ]
     },
     "metadata": {},
     "output_type": "display_data"
    },
    {
     "name": "stdout",
     "output_type": "stream",
     "text": [
      "\n"
     ]
    },
    {
     "data": {
      "text/html": [
       "<div>\n",
       "<style scoped>\n",
       "    .dataframe tbody tr th:only-of-type {\n",
       "        vertical-align: middle;\n",
       "    }\n",
       "\n",
       "    .dataframe tbody tr th {\n",
       "        vertical-align: top;\n",
       "    }\n",
       "\n",
       "    .dataframe thead th {\n",
       "        text-align: right;\n",
       "    }\n",
       "</style>\n",
       "<table border=\"1\" class=\"dataframe\">\n",
       "  <thead>\n",
       "    <tr style=\"text-align: right;\">\n",
       "      <th></th>\n",
       "      <th>path</th>\n",
       "      <th>sentence</th>\n",
       "      <th>np_path</th>\n",
       "    </tr>\n",
       "  </thead>\n",
       "  <tbody>\n",
       "    <tr>\n",
       "      <th>0</th>\n",
       "      <td>/media/data/soroosh/dataset/ASR/shemo-fa//male...</td>\n",
       "      <td>من به احترام شما خواستم اون تابلو رو از اتاق د...</td>\n",
       "      <td>/media/data/soroosh/dataset/ASR/shemo-fa/np/M3...</td>\n",
       "    </tr>\n",
       "    <tr>\n",
       "      <th>1</th>\n",
       "      <td>/media/data/soroosh/dataset/ASR/shemo-fa//fema...</td>\n",
       "      <td>دکتر جهانگیری برای امیر از ماجرای یک شب سرد بر...</td>\n",
       "      <td>/media/data/soroosh/dataset/ASR/shemo-fa/np/F0...</td>\n",
       "    </tr>\n",
       "    <tr>\n",
       "      <th>2</th>\n",
       "      <td>/media/data/soroosh/dataset/ASR/shemo-fa//male...</td>\n",
       "      <td>من روان شناس تیم پیوندم</td>\n",
       "      <td>/media/data/soroosh/dataset/ASR/shemo-fa/np/M0...</td>\n",
       "    </tr>\n",
       "    <tr>\n",
       "      <th>3</th>\n",
       "      <td>/media/data/soroosh/dataset/ASR/shemo-fa//fema...</td>\n",
       "      <td>من کسانی رو نگه می دارم که دوسشون دارم و می خو...</td>\n",
       "      <td>/media/data/soroosh/dataset/ASR/shemo-fa/np/F2...</td>\n",
       "    </tr>\n",
       "    <tr>\n",
       "      <th>4</th>\n",
       "      <td>/media/data/soroosh/dataset/ASR/shemo-fa//male...</td>\n",
       "      <td>ببرمش بزارمش تو کوچه</td>\n",
       "      <td>/media/data/soroosh/dataset/ASR/shemo-fa/np/M0...</td>\n",
       "    </tr>\n",
       "  </tbody>\n",
       "</table>\n",
       "</div>"
      ],
      "text/plain": [
       "                                                path  \\\n",
       "0  /media/data/soroosh/dataset/ASR/shemo-fa//male...   \n",
       "1  /media/data/soroosh/dataset/ASR/shemo-fa//fema...   \n",
       "2  /media/data/soroosh/dataset/ASR/shemo-fa//male...   \n",
       "3  /media/data/soroosh/dataset/ASR/shemo-fa//fema...   \n",
       "4  /media/data/soroosh/dataset/ASR/shemo-fa//male...   \n",
       "\n",
       "                                            sentence  \\\n",
       "0  من به احترام شما خواستم اون تابلو رو از اتاق د...   \n",
       "1  دکتر جهانگیری برای امیر از ماجرای یک شب سرد بر...   \n",
       "2                           من روان شناس تیم پیوندم    \n",
       "3  من کسانی رو نگه می دارم که دوسشون دارم و می خو...   \n",
       "4                              ببرمش بزارمش تو کوچه    \n",
       "\n",
       "                                             np_path  \n",
       "0  /media/data/soroosh/dataset/ASR/shemo-fa/np/M3...  \n",
       "1  /media/data/soroosh/dataset/ASR/shemo-fa/np/F0...  \n",
       "2  /media/data/soroosh/dataset/ASR/shemo-fa/np/M0...  \n",
       "3  /media/data/soroosh/dataset/ASR/shemo-fa/np/F2...  \n",
       "4  /media/data/soroosh/dataset/ASR/shemo-fa/np/M0...  "
      ]
     },
     "execution_count": 5,
     "metadata": {},
     "output_type": "execute_result"
    }
   ],
   "source": [
    "train['np_path'] = train['path'].progress_apply(lambda path: save_dir + path.split('/')[-1][:-4] + '.npy')\n",
    "train.head()"
   ]
  },
  {
   "cell_type": "code",
   "execution_count": 6,
   "id": "sporting-walnut",
   "metadata": {},
   "outputs": [
    {
     "data": {
      "application/vnd.jupyter.widget-view+json": {
       "model_id": "898eb4fd62e7427e875cf30e5b3545f7",
       "version_major": 2,
       "version_minor": 0
      },
      "text/plain": [
       "HBox(children=(FloatProgress(value=0.0, max=2554.0), HTML(value='')))"
      ]
     },
     "metadata": {},
     "output_type": "display_data"
    },
    {
     "name": "stdout",
     "output_type": "stream",
     "text": [
      "\n"
     ]
    },
    {
     "data": {
      "text/html": [
       "<div>\n",
       "<style scoped>\n",
       "    .dataframe tbody tr th:only-of-type {\n",
       "        vertical-align: middle;\n",
       "    }\n",
       "\n",
       "    .dataframe tbody tr th {\n",
       "        vertical-align: top;\n",
       "    }\n",
       "\n",
       "    .dataframe thead th {\n",
       "        text-align: right;\n",
       "    }\n",
       "</style>\n",
       "<table border=\"1\" class=\"dataframe\">\n",
       "  <thead>\n",
       "    <tr style=\"text-align: right;\">\n",
       "      <th></th>\n",
       "      <th>path</th>\n",
       "      <th>sentence</th>\n",
       "      <th>np_path</th>\n",
       "      <th>duration</th>\n",
       "    </tr>\n",
       "  </thead>\n",
       "  <tbody>\n",
       "    <tr>\n",
       "      <th>0</th>\n",
       "      <td>/media/data/soroosh/dataset/ASR/shemo-fa//male...</td>\n",
       "      <td>من به احترام شما خواستم اون تابلو رو از اتاق د...</td>\n",
       "      <td>/media/data/soroosh/dataset/ASR/shemo-fa/np/M3...</td>\n",
       "      <td>3.010125</td>\n",
       "    </tr>\n",
       "    <tr>\n",
       "      <th>1</th>\n",
       "      <td>/media/data/soroosh/dataset/ASR/shemo-fa//fema...</td>\n",
       "      <td>دکتر جهانگیری برای امیر از ماجرای یک شب سرد بر...</td>\n",
       "      <td>/media/data/soroosh/dataset/ASR/shemo-fa/np/F0...</td>\n",
       "      <td>27.983125</td>\n",
       "    </tr>\n",
       "    <tr>\n",
       "      <th>2</th>\n",
       "      <td>/media/data/soroosh/dataset/ASR/shemo-fa//male...</td>\n",
       "      <td>من روان شناس تیم پیوندم</td>\n",
       "      <td>/media/data/soroosh/dataset/ASR/shemo-fa/np/M0...</td>\n",
       "      <td>2.473875</td>\n",
       "    </tr>\n",
       "    <tr>\n",
       "      <th>3</th>\n",
       "      <td>/media/data/soroosh/dataset/ASR/shemo-fa//fema...</td>\n",
       "      <td>من کسانی رو نگه می دارم که دوسشون دارم و می خو...</td>\n",
       "      <td>/media/data/soroosh/dataset/ASR/shemo-fa/np/F2...</td>\n",
       "      <td>4.574063</td>\n",
       "    </tr>\n",
       "    <tr>\n",
       "      <th>4</th>\n",
       "      <td>/media/data/soroosh/dataset/ASR/shemo-fa//male...</td>\n",
       "      <td>ببرمش بزارمش تو کوچه</td>\n",
       "      <td>/media/data/soroosh/dataset/ASR/shemo-fa/np/M0...</td>\n",
       "      <td>1.477688</td>\n",
       "    </tr>\n",
       "  </tbody>\n",
       "</table>\n",
       "</div>"
      ],
      "text/plain": [
       "                                                path  \\\n",
       "0  /media/data/soroosh/dataset/ASR/shemo-fa//male...   \n",
       "1  /media/data/soroosh/dataset/ASR/shemo-fa//fema...   \n",
       "2  /media/data/soroosh/dataset/ASR/shemo-fa//male...   \n",
       "3  /media/data/soroosh/dataset/ASR/shemo-fa//fema...   \n",
       "4  /media/data/soroosh/dataset/ASR/shemo-fa//male...   \n",
       "\n",
       "                                            sentence  \\\n",
       "0  من به احترام شما خواستم اون تابلو رو از اتاق د...   \n",
       "1  دکتر جهانگیری برای امیر از ماجرای یک شب سرد بر...   \n",
       "2                           من روان شناس تیم پیوندم    \n",
       "3  من کسانی رو نگه می دارم که دوسشون دارم و می خو...   \n",
       "4                              ببرمش بزارمش تو کوچه    \n",
       "\n",
       "                                             np_path   duration  \n",
       "0  /media/data/soroosh/dataset/ASR/shemo-fa/np/M3...   3.010125  \n",
       "1  /media/data/soroosh/dataset/ASR/shemo-fa/np/F0...  27.983125  \n",
       "2  /media/data/soroosh/dataset/ASR/shemo-fa/np/M0...   2.473875  \n",
       "3  /media/data/soroosh/dataset/ASR/shemo-fa/np/F2...   4.574063  \n",
       "4  /media/data/soroosh/dataset/ASR/shemo-fa/np/M0...   1.477688  "
      ]
     },
     "execution_count": 6,
     "metadata": {},
     "output_type": "execute_result"
    }
   ],
   "source": [
    "train['duration'] = train['np_path'].progress_apply(lambda p: np.load(p).shape[0]/ 16000)\n",
    "train.head()"
   ]
  },
  {
   "cell_type": "code",
   "execution_count": 7,
   "id": "sunrise-roberts",
   "metadata": {},
   "outputs": [],
   "source": [
    "train.to_csv(path + 'train.csv', index=False)"
   ]
  },
  {
   "cell_type": "code",
   "execution_count": null,
   "id": "relative-ocean",
   "metadata": {},
   "outputs": [],
   "source": []
  }
 ],
 "metadata": {
  "kernelspec": {
   "display_name": "Python 3",
   "language": "python",
   "name": "python3"
  },
  "language_info": {
   "codemirror_mode": {
    "name": "ipython",
    "version": 3
   },
   "file_extension": ".py",
   "mimetype": "text/x-python",
   "name": "python",
   "nbconvert_exporter": "python",
   "pygments_lexer": "ipython3",
   "version": "3.8.5"
  }
 },
 "nbformat": 4,
 "nbformat_minor": 5
}
